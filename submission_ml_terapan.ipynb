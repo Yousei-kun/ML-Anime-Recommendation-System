{
  "cells": [
    {
      "cell_type": "markdown",
      "metadata": {
        "id": "eIyX2je0j0oc"
      },
      "source": [
        "# Identitas & Definisi Hasil Pekerjaan\n",
        "## Ivan Budianto\n",
        "\n",
        "### shinsuketenma0603@gmail.com\n",
        "### Submission Machine Learning Terapan 2"
      ]
    },
    {
      "cell_type": "markdown",
      "metadata": {
        "id": "Tg_y1x8Qj0og"
      },
      "source": [
        "## Sistem Rekomendasi Judul Anime \n",
        "\n",
        "### Metode:\n",
        "- Collaborative filtering\n",
        "- Hypertuning menggunakan SGD optimizer & learning rate"
      ]
    },
    {
      "cell_type": "markdown",
      "metadata": {
        "id": "JQLxzl-Tj0oh"
      },
      "source": [
        "Melakukan import library yang dibutuhkan (Pandas, Numpy, Tensorflow)"
      ]
    },
    {
      "cell_type": "code",
      "execution_count": 4,
      "metadata": {
        "id": "fGm6Sh2Oj0oh",
        "trusted": true
      },
      "outputs": [],
      "source": [
        "import numpy as np\n",
        "import pandas as pd\n",
        "import tensorflow as tf\n",
        "\n",
        "from sklearn.preprocessing import MinMaxScaler\n",
        "\n",
        "import os"
      ]
    },
    {
      "cell_type": "markdown",
      "metadata": {
        "id": "zTc80IQzj0oi"
      },
      "source": [
        "# Pre-Processing\n",
        "\n",
        "## Berikut adalah langkah-langkah yang saya lakukan dalam proses preprocessing data:\n",
        "1. Memasukkan dataset data review user \n",
        "2. Melakukan filtering data untuk mencari hanya user yang sudah menonton (mereview tentunya) setidaknya 500 anime \n",
        "3. Melakukan filtering data duplikat\n",
        "4. Scaling dataset pada rating menggunakan minmaxscaler\n",
        "5. Encode anime dan user\n",
        "6. Proses shuffling dan pendefinisian fitur (x dan y)\n",
        "7. Proses split dataset\n",
        "8. Ekstrak fitur berupa parameter untuk melakukan pemodelan"
      ]
    },
    {
      "cell_type": "markdown",
      "metadata": {
        "id": "wO3oJqYWj0oj"
      },
      "source": [
        "## Memasukkan dataset data review user \n",
        "Dari dataset mengenai rating anime oleh user, hanya menggunakan beberapa kolom saja (slicing) pada kolom user_id, anime_id, dan rating pengguna untuk setiap anime."
      ]
    },
    {
      "cell_type": "code",
      "execution_count": 5,
      "metadata": {
        "colab": {
          "base_uri": "https://localhost:8080/",
          "height": 205
        },
        "id": "cy6CKrNaIop6",
        "outputId": "ecf24471-8cda-45f8-b3bb-208a52f9a054"
      },
      "outputs": [
        {
          "data": {
            "text/html": [
              "<div>\n",
              "<style scoped>\n",
              "    .dataframe tbody tr th:only-of-type {\n",
              "        vertical-align: middle;\n",
              "    }\n",
              "\n",
              "    .dataframe tbody tr th {\n",
              "        vertical-align: top;\n",
              "    }\n",
              "\n",
              "    .dataframe thead th {\n",
              "        text-align: right;\n",
              "    }\n",
              "</style>\n",
              "<table border=\"1\" class=\"dataframe\">\n",
              "  <thead>\n",
              "    <tr style=\"text-align: right;\">\n",
              "      <th></th>\n",
              "      <th>user_id</th>\n",
              "      <th>anime_id</th>\n",
              "      <th>rating</th>\n",
              "    </tr>\n",
              "  </thead>\n",
              "  <tbody>\n",
              "    <tr>\n",
              "      <th>0</th>\n",
              "      <td>0</td>\n",
              "      <td>67</td>\n",
              "      <td>9</td>\n",
              "    </tr>\n",
              "    <tr>\n",
              "      <th>1</th>\n",
              "      <td>0</td>\n",
              "      <td>6702</td>\n",
              "      <td>7</td>\n",
              "    </tr>\n",
              "    <tr>\n",
              "      <th>2</th>\n",
              "      <td>0</td>\n",
              "      <td>242</td>\n",
              "      <td>10</td>\n",
              "    </tr>\n",
              "    <tr>\n",
              "      <th>3</th>\n",
              "      <td>0</td>\n",
              "      <td>4898</td>\n",
              "      <td>0</td>\n",
              "    </tr>\n",
              "    <tr>\n",
              "      <th>4</th>\n",
              "      <td>0</td>\n",
              "      <td>21</td>\n",
              "      <td>10</td>\n",
              "    </tr>\n",
              "  </tbody>\n",
              "</table>\n",
              "</div>"
            ],
            "text/plain": [
              "   user_id  anime_id  rating\n",
              "0        0        67       9\n",
              "1        0      6702       7\n",
              "2        0       242      10\n",
              "3        0      4898       0\n",
              "4        0        21      10"
            ]
          },
          "execution_count": 5,
          "metadata": {},
          "output_type": "execute_result"
        }
      ],
      "source": [
        "#mendefinisikan base_dir, dan memasukkan dataset\n",
        "\n",
        "base_dir = \"C:/Users/xcessive/Documents/machine_learning\"\n",
        "\n",
        "df_raw = pd.read_csv(os.path.join(base_dir, 'animelist.csv'),\n",
        "                     usecols=[\"user_id\", \"anime_id\", \"rating\"])\n",
        "\n",
        "df_raw.head()"
      ]
    },
    {
      "cell_type": "markdown",
      "metadata": {},
      "source": [
        "## Melakukan filtering data untuk mencari hanya user yang sudah menonton (mereview tentunya) setidaknya 500 anime \n",
        "Dari dataset yang telah diimport, sekarang akan dilakukan filtering untuk mencari user-user yang telah mereview setidaknya 500 anime, dan meletakkan data tersebut pada user_rating_df."
      ]
    },
    {
      "cell_type": "code",
      "execution_count": 6,
      "metadata": {
        "id": "bOI4RDqGPg2u"
      },
      "outputs": [],
      "source": [
        "#filtering data user\n",
        "\n",
        "n_ratings = df_raw['user_id'].value_counts()\n",
        "user_rating_df = df_raw[df_raw['user_id'].isin(n_ratings[n_ratings >= 500].index)].copy()"
      ]
    },
    {
      "cell_type": "markdown",
      "metadata": {},
      "source": [
        "## Melakukan filtering data duplikat\n",
        "Duplikasi data akan menyebabkan hasil dari sistem rekomendasi menjadi \"offside\". Maka dari itu, perlu dilakukan filtering pada dataset yang digunakan pada data yang duplikat atau sama."
      ]
    },
    {
      "cell_type": "code",
      "execution_count": 7,
      "metadata": {
        "id": "aYJzXhFPQfMB"
      },
      "outputs": [],
      "source": [
        "#filtering data duplikat\n",
        "\n",
        "duplicates = user_rating_df.duplicated()\n",
        "user_rating_df = user_rating_df[~duplicates]"
      ]
    },
    {
      "cell_type": "code",
      "execution_count": 8,
      "metadata": {
        "colab": {
          "base_uri": "https://localhost:8080/"
        },
        "id": "OSkxWFH_OkOz",
        "outputId": "6aec760c-72fa-4fb0-e488-5ca810226ec4"
      },
      "outputs": [
        {
          "name": "stdout",
          "output_type": "stream",
          "text": [
            "User in use: 325770\n"
          ]
        }
      ],
      "source": [
        "print(\"User in use: {}\".format(len(df_raw['user_id'].unique())))"
      ]
    },
    {
      "cell_type": "markdown",
      "metadata": {},
      "source": [
        "## Scaling dataset pada rating menggunakan minmaxscaler\n",
        "Dataset yang besar, dan memiliki range yang tinggi akan menyulitkan algoritma dalam melakukan tugasnya (membuat rekomendasi). Dengan penggunaan MinMaxScaler dari sklearn, akan memudahkan dalam melakukan pemrosesan data. Kolom yang akan discaling adalah kolom rating."
      ]
    },
    {
      "cell_type": "code",
      "execution_count": 9,
      "metadata": {
        "colab": {
          "base_uri": "https://localhost:8080/",
          "height": 422
        },
        "id": "KQSkZSR8wll5",
        "outputId": "af7aa412-57fe-4696-aae5-93f1a0ed7649"
      },
      "outputs": [
        {
          "data": {
            "text/html": [
              "<div>\n",
              "<style scoped>\n",
              "    .dataframe tbody tr th:only-of-type {\n",
              "        vertical-align: middle;\n",
              "    }\n",
              "\n",
              "    .dataframe tbody tr th {\n",
              "        vertical-align: top;\n",
              "    }\n",
              "\n",
              "    .dataframe thead th {\n",
              "        text-align: right;\n",
              "    }\n",
              "</style>\n",
              "<table border=\"1\" class=\"dataframe\">\n",
              "  <thead>\n",
              "    <tr style=\"text-align: right;\">\n",
              "      <th></th>\n",
              "      <th>user_id</th>\n",
              "      <th>anime_id</th>\n",
              "      <th>rating</th>\n",
              "    </tr>\n",
              "  </thead>\n",
              "  <tbody>\n",
              "    <tr>\n",
              "      <th>1415</th>\n",
              "      <td>6</td>\n",
              "      <td>9062</td>\n",
              "      <td>0.8</td>\n",
              "    </tr>\n",
              "    <tr>\n",
              "      <th>1416</th>\n",
              "      <td>6</td>\n",
              "      <td>9919</td>\n",
              "      <td>0.0</td>\n",
              "    </tr>\n",
              "    <tr>\n",
              "      <th>1417</th>\n",
              "      <td>6</td>\n",
              "      <td>150</td>\n",
              "      <td>0.7</td>\n",
              "    </tr>\n",
              "    <tr>\n",
              "      <th>1418</th>\n",
              "      <td>6</td>\n",
              "      <td>4981</td>\n",
              "      <td>0.0</td>\n",
              "    </tr>\n",
              "    <tr>\n",
              "      <th>1419</th>\n",
              "      <td>6</td>\n",
              "      <td>10793</td>\n",
              "      <td>0.0</td>\n",
              "    </tr>\n",
              "    <tr>\n",
              "      <th>...</th>\n",
              "      <td>...</td>\n",
              "      <td>...</td>\n",
              "      <td>...</td>\n",
              "    </tr>\n",
              "    <tr>\n",
              "      <th>109224268</th>\n",
              "      <td>353398</td>\n",
              "      <td>34086</td>\n",
              "      <td>0.0</td>\n",
              "    </tr>\n",
              "    <tr>\n",
              "      <th>109224269</th>\n",
              "      <td>353398</td>\n",
              "      <td>17909</td>\n",
              "      <td>0.0</td>\n",
              "    </tr>\n",
              "    <tr>\n",
              "      <th>109224270</th>\n",
              "      <td>353398</td>\n",
              "      <td>32924</td>\n",
              "      <td>0.0</td>\n",
              "    </tr>\n",
              "    <tr>\n",
              "      <th>109224271</th>\n",
              "      <td>353398</td>\n",
              "      <td>24627</td>\n",
              "      <td>0.0</td>\n",
              "    </tr>\n",
              "    <tr>\n",
              "      <th>109224272</th>\n",
              "      <td>353398</td>\n",
              "      <td>34467</td>\n",
              "      <td>0.0</td>\n",
              "    </tr>\n",
              "  </tbody>\n",
              "</table>\n",
              "<p>60285538 rows × 3 columns</p>\n",
              "</div>"
            ],
            "text/plain": [
              "           user_id  anime_id  rating\n",
              "1415             6      9062     0.8\n",
              "1416             6      9919     0.0\n",
              "1417             6       150     0.7\n",
              "1418             6      4981     0.0\n",
              "1419             6     10793     0.0\n",
              "...            ...       ...     ...\n",
              "109224268   353398     34086     0.0\n",
              "109224269   353398     17909     0.0\n",
              "109224270   353398     32924     0.0\n",
              "109224271   353398     24627     0.0\n",
              "109224272   353398     34467     0.0\n",
              "\n",
              "[60285538 rows x 3 columns]"
            ]
          },
          "execution_count": 9,
          "metadata": {},
          "output_type": "execute_result"
        }
      ],
      "source": [
        "# scaling dataset\n",
        "\n",
        "minmax_scaler = MinMaxScaler()\n",
        "user_rating_df[[\"rating\"]] = minmax_scaler.fit_transform(user_rating_df[[\"rating\"]])\n",
        "\n",
        "user_rating_df"
      ]
    },
    {
      "cell_type": "markdown",
      "metadata": {},
      "source": [
        "## Encode anime dan user\n",
        "Proses encode akan memudahkan program dalam mengidentifikasi setiap data yang ada. Melalui proses encode ini, program dapat dengan mudah mengenali setiap user dan anime yang ada melalui bilangan numerik, sehingga pemrosesan data dapat dilakukan dengan lebih efisien."
      ]
    },
    {
      "cell_type": "code",
      "execution_count": 10,
      "metadata": {
        "colab": {
          "base_uri": "https://localhost:8080/"
        },
        "id": "DHiyPeKLzyUI",
        "outputId": "4ce57314-2024-4bb7-e16e-ae3b5b7de663"
      },
      "outputs": [
        {
          "name": "stdout",
          "output_type": "stream",
          "text": [
            "Num of users: 66698, Num of animes: 17560\n",
            "Min rating: 0.0, Max rating: 1.0\n"
          ]
        }
      ],
      "source": [
        "user_ids = user_rating_df[\"user_id\"].unique().tolist()\n",
        "user2user_encoded = {x: i for i, x in enumerate(user_ids)}\n",
        "user_encoded2user = {i: x for i, x in enumerate(user_ids)}\n",
        "user_rating_df[\"user\"] = user_rating_df[\"user_id\"].map(user2user_encoded)\n",
        "n_users = len(user2user_encoded)\n",
        "\n",
        "anime_ids = user_rating_df[\"anime_id\"].unique().tolist()\n",
        "anime2anime_encoded = {x: i for i, x in enumerate(anime_ids)}\n",
        "anime_encoded2anime = {i: x for i, x in enumerate(anime_ids)}\n",
        "user_rating_df[\"anime\"] = user_rating_df[\"anime_id\"].map(anime2anime_encoded)\n",
        "n_animes = len(anime2anime_encoded)\n",
        "\n",
        "print(\"Num of users: {}, Num of animes: {}\".format(n_users, n_animes))\n",
        "print(\"Min rating: {}, Max rating: {}\".format(min(user_rating_df['rating']), max(user_rating_df['rating'])))"
      ]
    },
    {
      "cell_type": "markdown",
      "metadata": {
        "id": "BD7UBbfHj0ok"
      },
      "source": [
        "## Proses shuffling dan pendefinisian fitur (x dan y)\n",
        "\n",
        "Melakukan shuffling dari data pada dataset untuk menghindari overfitting dari model. Dengan melakukan shuffling, model akan belajar dengan lebih \"obyektif\"\n",
        "\n",
        "Mendefinisikan X dan y, dimana:\n",
        "- X merupakan data yang menjadi tolok ukur untuk prediksi (data dari dataset)\n",
        "- y merupakan hasil atau tujuan dari hasil prediksinya"
      ]
    },
    {
      "cell_type": "code",
      "execution_count": 11,
      "metadata": {
        "id": "V3azP_ZCj0ol",
        "trusted": true
      },
      "outputs": [],
      "source": [
        "#shuffle data\n",
        "\n",
        "user_rating_df = user_rating_df.sample(frac=1, random_state=73)\n",
        "\n",
        "X = user_rating_df[['user', 'anime']].values\n",
        "y = user_rating_df[\"rating\"]"
      ]
    },
    {
      "cell_type": "markdown",
      "metadata": {},
      "source": [
        "## Proses split dataset\n",
        "Sebagai persiapan sebelum melakukan pemodelan, perlu dilakukan pemisahan dataset train dan test. Pemisahan ini berguna untuk melakukan validasi keakuratan dari data yang telah ditraining. Dalam kasus kali ini, saya memisahkan dataset test sebanyak 20ribu data, dan data sisanya merupakan dataset traning.\n",
        "\n",
        "Pemisahkan antara dataset latihan (train) dan \n",
        "dataset test (test) dengan pembagian:\n",
        "- 20000 (20ribu) dataset pengujian (test set)\n",
        "- sisanya merupakan dataset latihan (train set)"
      ]
    },
    {
      "cell_type": "code",
      "execution_count": 12,
      "metadata": {
        "id": "i7qhhn-oEPHg"
      },
      "outputs": [],
      "source": [
        "# Split\n",
        "test_set = 20000\n",
        "train_indices = user_rating_df.shape[0] - test_set \n",
        "\n",
        "X_train, X_test, y_train, y_test = (\n",
        "    X[:train_indices],\n",
        "    X[train_indices:],\n",
        "    y[:train_indices],\n",
        "    y[train_indices:],\n",
        ")"
      ]
    },
    {
      "cell_type": "markdown",
      "metadata": {},
      "source": [
        "## Ekstrak fitur berupa parameter untuk melakukan pemodelan\n",
        "Dalam melakukan pelatihan model, tentu dibutuhkan sebuah data yang digunakan untuk melakukan pelatihan."
      ]
    },
    {
      "cell_type": "code",
      "execution_count": 13,
      "metadata": {
        "id": "jdnzj4LbIBOJ"
      },
      "outputs": [],
      "source": [
        "X_train_params = [X_train[:, 0], X_train[:, 1]]\n",
        "X_test_params = [X_test[:, 0], X_test[:, 1]]"
      ]
    },
    {
      "cell_type": "markdown",
      "metadata": {
        "id": "aAr_mrAQmFG-"
      },
      "source": [
        "# Modelling\n",
        "\n",
        "Pembuatan model menggunakan 2 metode, yaitu:\n",
        "- Collaborative Filtering\n",
        "- Pengembangan Model Pertama (Hypertuning Collaborative Filtering)\n",
        "\n",
        "Berikut adalah langkah-langkah yang saya lakukan dalam proses modelling:\n",
        "1. Instantiasi Model pertama\n",
        "2. Membuat Callback untuk kedua model\n",
        "3. Melakukan proses training pada model pertama\n",
        "4. Hasil training, dan verdict #1\n",
        "5. Menyimpan model (bobot hasil pelatihan) pertama pada JSON\n",
        "6. Mendefinisikan model ke-2\n",
        "7. Melakukan proses training pada model kedua\n",
        "8. Hasil training, dan verdict #2\n",
        "9. Menyimpan model (bobot hasil pelatihan) kedua pada JSON"
      ]
    },
    {
      "cell_type": "markdown",
      "metadata": {
        "id": "WzJd40GXj0or"
      },
      "source": [
        "## Mendefinisikan model & parameter yang digunakan pada model pertama\n",
        "Mendefinisikan model, dan metode yang digunakan, yaitu model RecommenderNet pertama dari Tensoflow sebagai base dari model berikutnya. Model ini menggunakan parameter yang telah kita telusuri bersama sebelumnya pada parameter X untuk melakukan training dan testing.\n",
        "\n",
        "Dalam model pertama, optimizer yang digunakan adalah Adam, dimana optimizer ini merupakan optimizer yang \"all-round\", dan dapat menyelesaikan hampir seluruh masalah dalam machine learning dengan baik. Maka dari itu, dipilih Adam sebagai optimizer pertama.\n",
        "\n",
        "Metrik yang digunakan dalam pemodelan ini adalah mae dan mse, dimana dalam modul dicoding juga menggunakan metrik mse untuk melakukan training model serupa. Penjelasan lebih lanjut mengenai metrik evaluasi akan dijelaskan pada bagian evaluasi."
      ]
    },
    {
      "cell_type": "code",
      "execution_count": 14,
      "metadata": {
        "id": "PqOAafYvE9gp"
      },
      "outputs": [],
      "source": [
        "def RecommenderNet():\n",
        "    embedding_size = 128\n",
        "    \n",
        "    user = tf.keras.layers.Input(name = 'user', shape = [1])\n",
        "    user_embedding = tf.keras.layers.Embedding(name = 'user_embedding',\n",
        "                       input_dim = n_users, \n",
        "                       output_dim = embedding_size)(user)\n",
        "    \n",
        "    anime = tf.keras.layers.Input(name = 'anime', shape = [1])\n",
        "    anime_embedding = tf.keras.layers.Embedding(name = 'anime_embedding',\n",
        "                       input_dim = n_animes, \n",
        "                       output_dim = embedding_size)(anime)\n",
        "    \n",
        "    res = tf.keras.layers.Dot(name = 'dot_product', normalize = True, axes = 2)([user_embedding, anime_embedding])\n",
        "    res = tf.keras.layers.Flatten()(res)\n",
        "        \n",
        "    res = tf.keras.layers.Dense(1, kernel_initializer='he_normal')(res)\n",
        "    res = tf.keras.layers.BatchNormalization()(res)\n",
        "    res = tf.keras.layers.Activation(\"sigmoid\")(res)\n",
        "    \n",
        "    model = tf.keras.models.Model(inputs=[user, anime], outputs=res)\n",
        "    model.compile(loss='binary_crossentropy', metrics=[\"mae\", \"mse\"], optimizer='Adam')\n",
        "    \n",
        "    return model"
      ]
    },
    {
      "cell_type": "markdown",
      "metadata": {},
      "source": [
        "## Instantiasi Model pertama\n",
        "\n",
        "Dari model RecommenderNet yang telah berhasil dicompile, berikut adalah proses instantiasi dari model pertama dengan memanggil model tersebut."
      ]
    },
    {
      "cell_type": "code",
      "execution_count": 15,
      "metadata": {
        "id": "yz9X5_KWHjC2"
      },
      "outputs": [],
      "source": [
        "model = RecommenderNet()"
      ]
    },
    {
      "cell_type": "markdown",
      "metadata": {},
      "source": [
        "## Membuat Callback untuk kedua model\n",
        "\n",
        "Callback yang digunakan disini adalah callback bawaan dari Keras, yaitu Early Stopping. Early Stopping, seperti namanya, akan menghentikan proses converge model yang sedang dilatih lebih cepat dari seharusnya. Penghentian ini akan bergantung pada learning rate dari model pada beberapa epoch. Bila epoch dirasa \"merugikan\" dari sisi akurasi yang tidak bertambah, atau malah berkurang, maka proses training akan dihentikan."
      ]
    },
    {
      "cell_type": "code",
      "execution_count": 16,
      "metadata": {
        "id": "ZZ2iZCFoJV-p"
      },
      "outputs": [],
      "source": [
        "early_stopping = tf.keras.callbacks.EarlyStopping(patience = 3, monitor='val_loss', \n",
        "                               mode='min', restore_best_weights=True)"
      ]
    },
    {
      "cell_type": "markdown",
      "metadata": {},
      "source": [
        "## Melakukan proses training pada model pertama\n",
        "Melakukan proses training (fitting) pada model pertama menggunakan dataset yang telah didefinisikan. Proses ini dilakukan menggunakan syntax fit pada model."
      ]
    },
    {
      "cell_type": "code",
      "execution_count": 17,
      "metadata": {
        "id": "cAmGRlm5Htmh"
      },
      "outputs": [
        {
          "name": "stdout",
          "output_type": "stream",
          "text": [
            "Epoch 1/20\n",
            "6027/6027 [==============================] - 661s 109ms/step - loss: 0.5269 - mae: 0.2276 - mse: 0.0864 - val_loss: 0.4853 - val_mae: 0.1950 - val_mse: 0.0714\n",
            "Epoch 2/20\n",
            "6027/6027 [==============================] - 640s 106ms/step - loss: 0.4720 - mae: 0.1829 - mse: 0.0654 - val_loss: 0.4744 - val_mae: 0.1859 - val_mse: 0.0678\n",
            "Epoch 3/20\n",
            "6027/6027 [==============================] - 646s 107ms/step - loss: 0.4561 - mae: 0.1714 - mse: 0.0595 - val_loss: 0.4714 - val_mae: 0.1819 - val_mse: 0.0663\n",
            "Epoch 4/20\n",
            "6027/6027 [==============================] - 659s 109ms/step - loss: 0.4477 - mae: 0.1653 - mse: 0.0564 - val_loss: 0.4701 - val_mae: 0.1797 - val_mse: 0.0660\n",
            "Epoch 5/20\n",
            "6027/6027 [==============================] - 660s 109ms/step - loss: 0.4425 - mae: 0.1613 - mse: 0.0545 - val_loss: 0.4714 - val_mae: 0.1788 - val_mse: 0.0663\n",
            "Epoch 6/20\n",
            "6027/6027 [==============================] - 658s 109ms/step - loss: 0.4387 - mae: 0.1585 - mse: 0.0531 - val_loss: 0.4710 - val_mae: 0.1781 - val_mse: 0.0662\n",
            "Epoch 7/20\n",
            "6027/6027 [==============================] - 689s 114ms/step - loss: 0.4359 - mae: 0.1563 - mse: 0.0521 - val_loss: 0.4711 - val_mae: 0.1777 - val_mse: 0.0663\n"
          ]
        }
      ],
      "source": [
        "# Model training\n",
        "history = model.fit(\n",
        "    x=X_train_params,\n",
        "    y=y_train,\n",
        "    batch_size=10000,\n",
        "    epochs=20,\n",
        "    verbose=1,\n",
        "    validation_data=(X_test_params, y_test),\n",
        "    callbacks=early_stopping\n",
        ")"
      ]
    },
    {
      "cell_type": "markdown",
      "metadata": {},
      "source": [
        "## Hasil training, dan verdict #1\n",
        "\n",
        "Dari hasil training yang telah dilakukan, didapatkan hasil yang sangat baik, dimana mse sudah berada dibawah angka 0.05. Dari hasil pelatihan ini, model dapat melakukan prediksi dari data train dan test dengan cukup baik, dimana tidak ada perbedaan yang signifikan antara MAE & MSE pada train dan val.\n",
        "Hasil yang baik juga dapat dilihat pada variabel loss, dimana loss pada proses training cenderung mengalami penurunan.\n",
        "\n",
        "Untuk memperjelas hasil dari pelatihan ini, berikut adalah grafik plotting loss & val loss untuk model pertama."
      ]
    },
    {
      "cell_type": "code",
      "execution_count": 18,
      "metadata": {},
      "outputs": [
        {
          "data": {
            "image/png": "[encoded data removed]",
            "text/plain": [
              "<Figure size 432x288 with 1 Axes>"
            ]
          },
          "metadata": {
            "needs_background": "light"
          },
          "output_type": "display_data"
        }
      ],
      "source": [
        "#Training results\n",
        "import matplotlib.pyplot as plt\n",
        "%matplotlib inline\n",
        "\n",
        "plt.plot(history.history[\"loss\"][0:-2])\n",
        "plt.plot(history.history[\"val_loss\"][0:-2])\n",
        "plt.title(\"model loss\")\n",
        "plt.ylabel(\"loss\")\n",
        "plt.xlabel(\"epoch\")\n",
        "plt.legend([\"train\", \"test\"], loc=\"upper left\")\n",
        "plt.show()"
      ]
    },
    {
      "cell_type": "markdown",
      "metadata": {},
      "source": [
        "## Menyimpan model (bobot hasil pelatihan) pertama pada JSON\n",
        "Dengan melakukan penyimpanan bobot dari model yang telah dibuat, kita dapat mengakses model tersebut dengan akurasi yang sama tanpa perlu melakukan training kembali dan memiliki resiko untuk menghasilkan akurasi yang berbeda dari model sebelumnya. Untuk melakukan hal ini, kita hanya perlu mengimport modul model_from_json, dan mengeksekusi query berikut."
      ]
    },
    {
      "cell_type": "code",
      "execution_count": 19,
      "metadata": {},
      "outputs": [
        {
          "name": "stdout",
          "output_type": "stream",
          "text": [
            "Model saved\n"
          ]
        }
      ],
      "source": [
        "from keras.models import model_from_json\n",
        "\n",
        "model_json = model.to_json()\n",
        "\n",
        "with open(\"model.json\", \"w\") as json_file:\n",
        "    json_file.write(model_json)\n",
        "\n",
        "model.save_weights(\"model.h5\")\n",
        "print(\"Model saved\")\n",
        "\n",
        "# #mengambil model\n",
        "# json_file = open('model.json', 'r')\n",
        "# saved_model = json_file.read()\n",
        "# # close the file as good practice\n",
        "# json_file.close()\n",
        "# model_from_json = model_from_json(saved_model)\n",
        "# # load weights into new model\n",
        "# model_from_json.load_weights(\"model.h5\")\n",
        "# print(\"Model loaded\")"
      ]
    },
    {
      "cell_type": "markdown",
      "metadata": {},
      "source": [
        "## Mendefinisikan model ke-2\n",
        "\n",
        "Dalam model pertama, optimizer yang digunakan adalah Adam, dimana optimizer ini merupakan optimizer yang \"all-round\", dan dapat menyelesaikan hampir seluruh masalah dalam machine learning dengan baik. Maka dari itu, dipilih Adam sebagai optimizer pertama.\n",
        "\n",
        "Dalam model kedua ini, algoritma yang digunakan merupakan hypertuning secara manual dengan menggunakan optimizer yang berbeda. Dengan menggunakan optimizer yang berbeda, kita dapat mendapatkan algoritma \"berbeda\". Disini, digunakan Stocasthic Gradient Descent atau SGD optimizer untuk melakukan optimizing pada model.\n",
        "Selain itu, dalam model ini juga diubah parameter embedding_size menjadi 2x lipat dari model sebelumnya.\n",
        "\n",
        "Metrik yang digunakan dalam pemodelan ini adalah mae dan mse, dimana dalam model sebelumnya juga menggunakan parameter yang sama. Penggunaan parameter yang sama ditujukan agar dalam pembuatan model dapat dinilai secara objektif dari kedua sisinya."
      ]
    },
    {
      "cell_type": "code",
      "execution_count": 20,
      "metadata": {},
      "outputs": [],
      "source": [
        "optimizer = tf.keras.optimizers.SGD(learning_rate=1.0000e-04, momentum=0.9)\n",
        "\n",
        "def RecommenderNet():\n",
        "    embedding_size = 256\n",
        "    initializer = tf.keras.initializers.RandomNormal(mean=0., stddev=1.)\n",
        "    \n",
        "    user = tf.keras.layers.Input(name = 'user', shape = [1])\n",
        "    user_embedding = tf.keras.layers.Embedding(name = 'user_embedding',\n",
        "                       input_dim = n_users, \n",
        "                       output_dim = embedding_size)(user)\n",
        "    \n",
        "    anime = tf.keras.layers.Input(name = 'anime', shape = [1])\n",
        "    anime_embedding = tf.keras.layers.Embedding(name = 'anime_embedding',\n",
        "                       input_dim = n_animes, \n",
        "                       output_dim = embedding_size)(anime)\n",
        "    \n",
        "    res = tf.keras.layers.Dot(name = 'dot_product', normalize = True, axes = 2)([user_embedding, anime_embedding])\n",
        "    res = tf.keras.layers.Flatten()(res)\n",
        "    \n",
        "    res = tf.keras.layers.Dense(1, kernel_initializer=initializer)(res)\n",
        "    res = tf.keras.layers.BatchNormalization()(res)\n",
        "    res = tf.keras.layers.Activation(\"sigmoid\")(res)\n",
        "    \n",
        "    model = tf.keras.models.Model(inputs=[user, anime], outputs=res)\n",
        "    model.compile(loss='binary_crossentropy', metrics=[\"mae\", \"mse\"], optimizer=optimizer)\n",
        "    \n",
        "    return model"
      ]
    },
    {
      "cell_type": "markdown",
      "metadata": {},
      "source": [
        "## Melakukan proses training pada model kedua\n",
        "Melakukan proses training (fitting) pada model kedua menggunakan dataset yang sama. Proses ini dilakukan menggunakan syntax fit pada model."
      ]
    },
    {
      "cell_type": "code",
      "execution_count": 21,
      "metadata": {},
      "outputs": [
        {
          "name": "stdout",
          "output_type": "stream",
          "text": [
            "Epoch 1/20\n",
            "6027/6027 [==============================] - 313s 51ms/step - loss: 0.6998 - mae: 0.3669 - mse: 0.1595 - val_loss: 0.6736 - val_mae: 0.3645 - val_mse: 0.1485\n",
            "Epoch 2/20\n",
            "6027/6027 [==============================] - 311s 52ms/step - loss: 0.6734 - mae: 0.3643 - mse: 0.1472 - val_loss: 0.6711 - val_mae: 0.3647 - val_mse: 0.1473\n",
            "Epoch 3/20\n",
            "6027/6027 [==============================] - 312s 52ms/step - loss: 0.6729 - mae: 0.3645 - mse: 0.1469 - val_loss: 0.6709 - val_mae: 0.3648 - val_mse: 0.1472\n",
            "Epoch 4/20\n",
            "6027/6027 [==============================] - 316s 52ms/step - loss: 0.6728 - mae: 0.3646 - mse: 0.1469 - val_loss: 0.6709 - val_mae: 0.3648 - val_mse: 0.1472\n",
            "Epoch 5/20\n",
            "6027/6027 [==============================] - 317s 53ms/step - loss: 0.6728 - mae: 0.3646 - mse: 0.1469 - val_loss: 0.6709 - val_mae: 0.3648 - val_mse: 0.1472\n",
            "Epoch 6/20\n",
            "6027/6027 [==============================] - 293s 49ms/step - loss: 0.6728 - mae: 0.3646 - mse: 0.1469 - val_loss: 0.6709 - val_mae: 0.3648 - val_mse: 0.1472\n",
            "Epoch 7/20\n",
            "6027/6027 [==============================] - 290s 48ms/step - loss: 0.6728 - mae: 0.3646 - mse: 0.1469 - val_loss: 0.6709 - val_mae: 0.3648 - val_mse: 0.1472\n",
            "Epoch 8/20\n",
            "6027/6027 [==============================] - 297s 49ms/step - loss: 0.6728 - mae: 0.3646 - mse: 0.1469 - val_loss: 0.6709 - val_mae: 0.3648 - val_mse: 0.1472\n",
            "Epoch 9/20\n",
            "6027/6027 [==============================] - 293s 49ms/step - loss: 0.6728 - mae: 0.3646 - mse: 0.1469 - val_loss: 0.6709 - val_mae: 0.3648 - val_mse: 0.1472\n"
          ]
        }
      ],
      "source": [
        "# Model training 2\n",
        "model_hyper = RecommenderNet()\n",
        "history_hyper = model_hyper.fit(\n",
        "    x=X_train_params,\n",
        "    y=y_train,\n",
        "    batch_size=10000,\n",
        "    epochs=20,\n",
        "    verbose=1,\n",
        "    validation_data=(X_test_params, y_test),\n",
        "    callbacks=early_stopping\n",
        ")"
      ]
    },
    {
      "cell_type": "markdown",
      "metadata": {},
      "source": [
        "## Hasil training, dan verdict #2\n",
        "\n",
        "Dari hasil training yang telah dilakukan, didapatkan hasil yang biasa saja, dimana mse sudah berada dibawah angka 0.5. Dari hasil pelatihan ini, model dapat melakukan prediksi dari data train dan test dengan cukup baik, dimana tidak ada perbedaan yang signifikan antara MAE & MSE pada train dan val.\n",
        "Namun, bila dibandingkan dengan model pertama, ternyata pengembangan model menggunakan SGD tidak sebaik dengan menggunakan Adam. Dari sini, dapat dilihat melalui akurasi dari model yang didapat.\n",
        "\n",
        "Untuk memperjelas hasil dari pelatihan ini, berikut adalah grafik plotting loss & val loss untuk model kedua."
      ]
    },
    {
      "cell_type": "code",
      "execution_count": 37,
      "metadata": {},
      "outputs": [
        {
          "data": {
            "image/png": "[encoded data removed]",
            "text/plain": [
              "<Figure size 432x288 with 1 Axes>"
            ]
          },
          "metadata": {
            "needs_background": "light"
          },
          "output_type": "display_data"
        }
      ],
      "source": [
        "#Training results\n",
        "import matplotlib.pyplot as plt\n",
        "%matplotlib inline\n",
        "\n",
        "plt.plot(history_hyper.history[\"loss\"][0:-2])\n",
        "plt.plot(history_hyper.history[\"val_loss\"][0:-2])\n",
        "plt.title(\"model loss\")\n",
        "plt.ylabel(\"loss\")\n",
        "plt.xlabel(\"epoch\")\n",
        "plt.legend([\"train\", \"test\"], loc=\"upper left\")\n",
        "plt.show()"
      ]
    },
    {
      "cell_type": "markdown",
      "metadata": {},
      "source": [
        "## Menyimpan model (bobot hasil pelatihan) kedua pada JSON\n",
        "Sama seperti proses sebelumnya, dilakukan penyimpanan bobot dari model kedua pada JSON."
      ]
    },
    {
      "cell_type": "code",
      "execution_count": 42,
      "metadata": {},
      "outputs": [
        {
          "name": "stdout",
          "output_type": "stream",
          "text": [
            "Model saved\n"
          ]
        }
      ],
      "source": [
        "from keras.models import model_from_json\n",
        "\n",
        "model_hyper_json = model_hyper.to_json()\n",
        "\n",
        "with open(\"model_hyper.json\", \"w\") as json_file:\n",
        "    json_file.write(model_hyper_json)\n",
        "\n",
        "model_hyper.save_weights(\"model_hyper.h5\")\n",
        "print(\"Model saved\")\n",
        "\n",
        "# #mengambil model\n",
        "# json_file = open('model_hyper.json', 'r')\n",
        "# saved_model = json_file.read()\n",
        "# # close the file as good practice\n",
        "# json_file.close()\n",
        "# model_from_json = model_from_json(saved_model)\n",
        "# # load weights into new model\n",
        "# model_from_json.load_weights(\"model_hyper.h5\")\n",
        "# print(\"Model loaded\")"
      ]
    },
    {
      "cell_type": "markdown",
      "metadata": {},
      "source": [
        "# Exhibition rekomendasi anime\n",
        "Dalam proses ini, kita akan melakukan ekstraksi hasil pelatihan dari model yang telah dibangun untuk memberikan N rekomendasi anime yang diinginkan oleh user. Dalam latihan ini, digunakan maksimal 10 anime sebagai rekomendasi untuk user setelah melakukan input berupa judul berbahasa inggris dari anime yang diinginkan.\n",
        "\n",
        "Proses tersebut terdiri dari beberapa bagian, yaitu:\n",
        "1. Mengambil bobot dari tiap anime yang berhasil ditraining\n",
        "2. Mengambil data dari dataset anime kedalam dataframe baru\n",
        "3. Mencari nama anime dari dataframe\n",
        "4. Melakukan sorting dari skor, merapikan dataframe\n",
        "5. Pengambilan metadata anime dari dataframe (df)\n",
        "6. Mendefinisikan fungsi untuk eksekusi dari model #1\n",
        "7. Mendefinisikan fungsi untuk eksekusi dari model #2\n",
        "8. Testing model #1 untuk anime \"Naruto\" untuk menampilkan 10 anime termirip.\n",
        "9. Testing model #2 untuk anime \"Naruto\" untuk menampilkan 10 anime termirip."
      ]
    },
    {
      "cell_type": "markdown",
      "metadata": {},
      "source": [
        "## Mengambil bobot dari tiap anime yang berhasil ditraining\n",
        "Dari kedua model yang telah berhasil ditraining, hasil dari kedua traning berupa bobot akan diekstrak dari model untuk melakukan prediksi berupa pemberian rekomendasi kepada pengguna berdasarkan judul anime yang dimasukkan.\n",
        "\n",
        "Terdapat 2 fungsi yang dibuat dalam tahap ini, yaitu:\n",
        "- Fungsi extract_weights yang membutuhkan parameter berupa nama anime yang berasal dari model pertama\n",
        "- Fungsi extract_weights_hyper yang membutuhkan parameter berupa nama anime yang berasal dari model kedua"
      ]
    },
    {
      "cell_type": "code",
      "execution_count": 23,
      "metadata": {},
      "outputs": [],
      "source": [
        "def extract_weights(name, model):\n",
        "    weight_layer = model.get_layer(name)\n",
        "    weights = weight_layer.get_weights()[0]\n",
        "    weights = weights / np.linalg.norm(weights, axis = 1).reshape((-1, 1))\n",
        "\n",
        "    return weights\n",
        "\n",
        "anime_weights = extract_weights('anime_embedding', model)\n",
        "user_weights = extract_weights('user_embedding', model)"
      ]
    },
    {
      "cell_type": "code",
      "execution_count": 24,
      "metadata": {},
      "outputs": [],
      "source": [
        "def extract_weights_hyper(name, model_hyper):\n",
        "    weight_layer = model_hyper.get_layer(name)\n",
        "    weights = weight_layer.get_weights()[0]\n",
        "    weights = weights / np.linalg.norm(weights, axis = 1).reshape((-1, 1))\n",
        "\n",
        "    return weights\n",
        "\n",
        "anime_weights_hyper = extract_weights_hyper('anime_embedding', model_hyper)\n",
        "user_weights_hyper = extract_weights_hyper('user_embedding', model_hyper)"
      ]
    },
    {
      "cell_type": "markdown",
      "metadata": {},
      "source": [
        "## Mengambil data dari dataset anime kedalam dataframe baru\n",
        "\n",
        "Untuk memperlihatkan hasil yang dapat dinilai secara mudah, maka dibuatlah sebuah dataframe baru untuk menunjang pengambilan data."
      ]
    },
    {
      "cell_type": "code",
      "execution_count": 39,
      "metadata": {},
      "outputs": [],
      "source": [
        "df = pd.read_csv(base_dir + '/anime.csv', low_memory=True)\n",
        "df = df.replace(\"Unknown\", np.nan)"
      ]
    },
    {
      "cell_type": "markdown",
      "metadata": {},
      "source": [
        "## Mencari nama anime dari dataframe\n",
        "\n",
        "Untuk mendapatkan nama dari dataframe anime, dibutuhkan slicing pada kolom nama. Namun, karena terdapat judul yang merupakan hasil dari translate (misal \"Shingeki no Kyojin\" menjadi \"Attack On Titan\"), maka dibutuhkan nama anime yang universal. Maka dari itu, diambil judul inggris dari anime tersebut untuk dijadikan parameter baru.\n",
        "Apabila tidak memiliki judul berbahasa inggris, maka judul original akan digunakan."
      ]
    },
    {
      "cell_type": "code",
      "execution_count": 40,
      "metadata": {},
      "outputs": [],
      "source": [
        "def get_anime_name(anime_id):\n",
        "    try:\n",
        "        name = df[df.anime_id == anime_id].eng_version.values[0]\n",
        "        if name is np.nan:\n",
        "            name = df[df.anime_id == anime_id].Name.values[0]\n",
        "    except:\n",
        "        print('error')\n",
        "    \n",
        "    return name\n",
        "\n",
        "df['anime_id'] = df['MAL_ID']\n",
        "df[\"eng_version\"] = df['English name']\n",
        "df['eng_version'] = df.anime_id.apply(lambda x: get_anime_name(x))"
      ]
    },
    {
      "cell_type": "code",
      "execution_count": 41,
      "metadata": {},
      "outputs": [
        {
          "data": {
            "text/html": [
              "<div>\n",
              "<style scoped>\n",
              "    .dataframe tbody tr th:only-of-type {\n",
              "        vertical-align: middle;\n",
              "    }\n",
              "\n",
              "    .dataframe tbody tr th {\n",
              "        vertical-align: top;\n",
              "    }\n",
              "\n",
              "    .dataframe thead th {\n",
              "        text-align: right;\n",
              "    }\n",
              "</style>\n",
              "<table border=\"1\" class=\"dataframe\">\n",
              "  <thead>\n",
              "    <tr style=\"text-align: right;\">\n",
              "      <th></th>\n",
              "      <th>MAL_ID</th>\n",
              "      <th>Name</th>\n",
              "      <th>Score</th>\n",
              "      <th>Genres</th>\n",
              "      <th>English name</th>\n",
              "      <th>Japanese name</th>\n",
              "      <th>Type</th>\n",
              "      <th>Episodes</th>\n",
              "      <th>Aired</th>\n",
              "      <th>Premiered</th>\n",
              "      <th>...</th>\n",
              "      <th>Score-8</th>\n",
              "      <th>Score-7</th>\n",
              "      <th>Score-6</th>\n",
              "      <th>Score-5</th>\n",
              "      <th>Score-4</th>\n",
              "      <th>Score-3</th>\n",
              "      <th>Score-2</th>\n",
              "      <th>Score-1</th>\n",
              "      <th>anime_id</th>\n",
              "      <th>eng_version</th>\n",
              "    </tr>\n",
              "  </thead>\n",
              "  <tbody>\n",
              "    <tr>\n",
              "      <th>0</th>\n",
              "      <td>1</td>\n",
              "      <td>Cowboy Bebop</td>\n",
              "      <td>8.78</td>\n",
              "      <td>Action, Adventure, Comedy, Drama, Sci-Fi, Space</td>\n",
              "      <td>Cowboy Bebop</td>\n",
              "      <td>カウボーイビバップ</td>\n",
              "      <td>TV</td>\n",
              "      <td>26</td>\n",
              "      <td>Apr 3, 1998 to Apr 24, 1999</td>\n",
              "      <td>Spring 1998</td>\n",
              "      <td>...</td>\n",
              "      <td>131625.0</td>\n",
              "      <td>62330.0</td>\n",
              "      <td>20688.0</td>\n",
              "      <td>8904.0</td>\n",
              "      <td>3184.0</td>\n",
              "      <td>1357.0</td>\n",
              "      <td>741.0</td>\n",
              "      <td>1580.0</td>\n",
              "      <td>1</td>\n",
              "      <td>Cowboy Bebop</td>\n",
              "    </tr>\n",
              "    <tr>\n",
              "      <th>1</th>\n",
              "      <td>5</td>\n",
              "      <td>Cowboy Bebop: Tengoku no Tobira</td>\n",
              "      <td>8.39</td>\n",
              "      <td>Action, Drama, Mystery, Sci-Fi, Space</td>\n",
              "      <td>Cowboy Bebop:The Movie</td>\n",
              "      <td>カウボーイビバップ 天国の扉</td>\n",
              "      <td>Movie</td>\n",
              "      <td>1</td>\n",
              "      <td>Sep 1, 2001</td>\n",
              "      <td>NaN</td>\n",
              "      <td>...</td>\n",
              "      <td>49505.0</td>\n",
              "      <td>22632.0</td>\n",
              "      <td>5805.0</td>\n",
              "      <td>1877.0</td>\n",
              "      <td>577.0</td>\n",
              "      <td>221.0</td>\n",
              "      <td>109.0</td>\n",
              "      <td>379.0</td>\n",
              "      <td>5</td>\n",
              "      <td>Cowboy Bebop:The Movie</td>\n",
              "    </tr>\n",
              "    <tr>\n",
              "      <th>2</th>\n",
              "      <td>6</td>\n",
              "      <td>Trigun</td>\n",
              "      <td>8.24</td>\n",
              "      <td>Action, Sci-Fi, Adventure, Comedy, Drama, Shounen</td>\n",
              "      <td>Trigun</td>\n",
              "      <td>トライガン</td>\n",
              "      <td>TV</td>\n",
              "      <td>26</td>\n",
              "      <td>Apr 1, 1998 to Sep 30, 1998</td>\n",
              "      <td>Spring 1998</td>\n",
              "      <td>...</td>\n",
              "      <td>86142.0</td>\n",
              "      <td>49432.0</td>\n",
              "      <td>15376.0</td>\n",
              "      <td>5838.0</td>\n",
              "      <td>1965.0</td>\n",
              "      <td>664.0</td>\n",
              "      <td>316.0</td>\n",
              "      <td>533.0</td>\n",
              "      <td>6</td>\n",
              "      <td>Trigun</td>\n",
              "    </tr>\n",
              "    <tr>\n",
              "      <th>3</th>\n",
              "      <td>7</td>\n",
              "      <td>Witch Hunter Robin</td>\n",
              "      <td>7.27</td>\n",
              "      <td>Action, Mystery, Police, Supernatural, Drama, Magic</td>\n",
              "      <td>Witch Hunter Robin</td>\n",
              "      <td>Witch Hunter ROBIN (ウイッチハンターロビン)</td>\n",
              "      <td>TV</td>\n",
              "      <td>26</td>\n",
              "      <td>Jul 2, 2002 to Dec 24, 2002</td>\n",
              "      <td>Summer 2002</td>\n",
              "      <td>...</td>\n",
              "      <td>10128.0</td>\n",
              "      <td>11618.0</td>\n",
              "      <td>5709.0</td>\n",
              "      <td>2920.0</td>\n",
              "      <td>1083.0</td>\n",
              "      <td>353.0</td>\n",
              "      <td>164.0</td>\n",
              "      <td>131.0</td>\n",
              "      <td>7</td>\n",
              "      <td>Witch Hunter Robin</td>\n",
              "    </tr>\n",
              "    <tr>\n",
              "      <th>4</th>\n",
              "      <td>8</td>\n",
              "      <td>Bouken Ou Beet</td>\n",
              "      <td>6.98</td>\n",
              "      <td>Adventure, Fantasy, Shounen, Supernatural</td>\n",
              "      <td>Beet the Vandel Buster</td>\n",
              "      <td>冒険王ビィト</td>\n",
              "      <td>TV</td>\n",
              "      <td>52</td>\n",
              "      <td>Sep 30, 2004 to Sep 29, 2005</td>\n",
              "      <td>Fall 2004</td>\n",
              "      <td>...</td>\n",
              "      <td>1242.0</td>\n",
              "      <td>1713.0</td>\n",
              "      <td>1068.0</td>\n",
              "      <td>634.0</td>\n",
              "      <td>265.0</td>\n",
              "      <td>83.0</td>\n",
              "      <td>50.0</td>\n",
              "      <td>27.0</td>\n",
              "      <td>8</td>\n",
              "      <td>Beet the Vandel Buster</td>\n",
              "    </tr>\n",
              "  </tbody>\n",
              "</table>\n",
              "<p>5 rows × 37 columns</p>\n",
              "</div>"
            ],
            "text/plain": [
              "   MAL_ID                             Name Score  \\\n",
              "0       1                     Cowboy Bebop  8.78   \n",
              "1       5  Cowboy Bebop: Tengoku no Tobira  8.39   \n",
              "2       6                           Trigun  8.24   \n",
              "3       7               Witch Hunter Robin  7.27   \n",
              "4       8                   Bouken Ou Beet  6.98   \n",
              "\n",
              "                                                Genres  \\\n",
              "0      Action, Adventure, Comedy, Drama, Sci-Fi, Space   \n",
              "1                Action, Drama, Mystery, Sci-Fi, Space   \n",
              "2    Action, Sci-Fi, Adventure, Comedy, Drama, Shounen   \n",
              "3  Action, Mystery, Police, Supernatural, Drama, Magic   \n",
              "4            Adventure, Fantasy, Shounen, Supernatural   \n",
              "\n",
              "             English name                     Japanese name   Type Episodes  \\\n",
              "0            Cowboy Bebop                         カウボーイビバップ     TV       26   \n",
              "1  Cowboy Bebop:The Movie                    カウボーイビバップ 天国の扉  Movie        1   \n",
              "2                  Trigun                             トライガン     TV       26   \n",
              "3      Witch Hunter Robin  Witch Hunter ROBIN (ウイッチハンターロビン)     TV       26   \n",
              "4  Beet the Vandel Buster                            冒険王ビィト     TV       52   \n",
              "\n",
              "                          Aired    Premiered  ...   Score-8  Score-7  Score-6  \\\n",
              "0   Apr 3, 1998 to Apr 24, 1999  Spring 1998  ...  131625.0  62330.0  20688.0   \n",
              "1                   Sep 1, 2001          NaN  ...   49505.0  22632.0   5805.0   \n",
              "2   Apr 1, 1998 to Sep 30, 1998  Spring 1998  ...   86142.0  49432.0  15376.0   \n",
              "3   Jul 2, 2002 to Dec 24, 2002  Summer 2002  ...   10128.0  11618.0   5709.0   \n",
              "4  Sep 30, 2004 to Sep 29, 2005    Fall 2004  ...    1242.0   1713.0   1068.0   \n",
              "\n",
              "  Score-5 Score-4 Score-3 Score-2  Score-1  anime_id             eng_version  \n",
              "0  8904.0  3184.0  1357.0   741.0   1580.0         1            Cowboy Bebop  \n",
              "1  1877.0   577.0   221.0   109.0    379.0         5  Cowboy Bebop:The Movie  \n",
              "2  5838.0  1965.0   664.0   316.0    533.0         6                  Trigun  \n",
              "3  2920.0  1083.0   353.0   164.0    131.0         7      Witch Hunter Robin  \n",
              "4   634.0   265.0    83.0    50.0     27.0         8  Beet the Vandel Buster  \n",
              "\n",
              "[5 rows x 37 columns]"
            ]
          },
          "execution_count": 41,
          "metadata": {},
          "output_type": "execute_result"
        }
      ],
      "source": [
        "df.head(5)"
      ]
    },
    {
      "cell_type": "markdown",
      "metadata": {},
      "source": [
        "## Melakukan sorting dari skor, merapikan dataframe\n",
        "\n",
        "Dengan melakukan sorting judul anime berdasarkan skor tertinggi, akan memudahkan sistem dalam mencari anime yang memiliki skor tinggi yang cenderung direkomendasikan pada hasil dari rekomendasi sistem.\n",
        "Setelah dilakukan sorting, saatnya untuk menampilkan anime yang diinginkan, beserta key dalam mencari anime (yaitu anime_id sebagai tolok ukur pencarian anime, dan eng_version merupakan judul dari anime rekomendasi)"
      ]
    },
    {
      "cell_type": "code",
      "execution_count": 28,
      "metadata": {},
      "outputs": [],
      "source": [
        "df.sort_values(by=['Score'], \n",
        "               inplace=True,\n",
        "               ascending=False,\n",
        "               na_position='last')\n",
        "\n",
        "df = df[[\"anime_id\", \"eng_version\", \n",
        "         \"Score\",\"Genres\",\"Episodes\", \n",
        "         \"Type\", \"Premiered\", \"Members\"]]"
      ]
    },
    {
      "cell_type": "code",
      "execution_count": 29,
      "metadata": {},
      "outputs": [
        {
          "data": {
            "text/html": [
              "<div>\n",
              "<style scoped>\n",
              "    .dataframe tbody tr th:only-of-type {\n",
              "        vertical-align: middle;\n",
              "    }\n",
              "\n",
              "    .dataframe tbody tr th {\n",
              "        vertical-align: top;\n",
              "    }\n",
              "\n",
              "    .dataframe thead th {\n",
              "        text-align: right;\n",
              "    }\n",
              "</style>\n",
              "<table border=\"1\" class=\"dataframe\">\n",
              "  <thead>\n",
              "    <tr style=\"text-align: right;\">\n",
              "      <th></th>\n",
              "      <th>anime_id</th>\n",
              "      <th>eng_version</th>\n",
              "      <th>Score</th>\n",
              "      <th>Genres</th>\n",
              "      <th>Episodes</th>\n",
              "      <th>Type</th>\n",
              "      <th>Premiered</th>\n",
              "      <th>Members</th>\n",
              "    </tr>\n",
              "  </thead>\n",
              "  <tbody>\n",
              "    <tr>\n",
              "      <th>3971</th>\n",
              "      <td>5114</td>\n",
              "      <td>Fullmetal Alchemist:Brotherhood</td>\n",
              "      <td>9.19</td>\n",
              "      <td>Action, Military, Adventure, Comedy, Drama, Ma...</td>\n",
              "      <td>64</td>\n",
              "      <td>TV</td>\n",
              "      <td>Spring 2009</td>\n",
              "      <td>2248456</td>\n",
              "    </tr>\n",
              "    <tr>\n",
              "      <th>15926</th>\n",
              "      <td>40028</td>\n",
              "      <td>Attack on Titan Final Season</td>\n",
              "      <td>9.17</td>\n",
              "      <td>Action, Military, Mystery, Super Power, Drama,...</td>\n",
              "      <td>16</td>\n",
              "      <td>TV</td>\n",
              "      <td>Winter 2021</td>\n",
              "      <td>733260</td>\n",
              "    </tr>\n",
              "    <tr>\n",
              "      <th>5683</th>\n",
              "      <td>9253</td>\n",
              "      <td>Steins;Gate</td>\n",
              "      <td>9.11</td>\n",
              "      <td>Thriller, Sci-Fi</td>\n",
              "      <td>24</td>\n",
              "      <td>TV</td>\n",
              "      <td>Spring 2011</td>\n",
              "      <td>1771162</td>\n",
              "    </tr>\n",
              "    <tr>\n",
              "      <th>14963</th>\n",
              "      <td>38524</td>\n",
              "      <td>Attack on Titan Season 3 Part 2</td>\n",
              "      <td>9.1</td>\n",
              "      <td>Action, Drama, Fantasy, Military, Mystery, Sho...</td>\n",
              "      <td>10</td>\n",
              "      <td>TV</td>\n",
              "      <td>Spring 2019</td>\n",
              "      <td>1073626</td>\n",
              "    </tr>\n",
              "    <tr>\n",
              "      <th>9913</th>\n",
              "      <td>28977</td>\n",
              "      <td>Gintama Season 4</td>\n",
              "      <td>9.1</td>\n",
              "      <td>Action, Comedy, Historical, Parody, Samurai, S...</td>\n",
              "      <td>51</td>\n",
              "      <td>TV</td>\n",
              "      <td>Spring 2015</td>\n",
              "      <td>404121</td>\n",
              "    </tr>\n",
              "    <tr>\n",
              "      <th>...</th>\n",
              "      <td>...</td>\n",
              "      <td>...</td>\n",
              "      <td>...</td>\n",
              "      <td>...</td>\n",
              "      <td>...</td>\n",
              "      <td>...</td>\n",
              "      <td>...</td>\n",
              "      <td>...</td>\n",
              "    </tr>\n",
              "    <tr>\n",
              "      <th>17557</th>\n",
              "      <td>48481</td>\n",
              "      <td>Daomu Biji Zhi Qinling Shen Shu</td>\n",
              "      <td>NaN</td>\n",
              "      <td>Adventure, Mystery, Supernatural</td>\n",
              "      <td>NaN</td>\n",
              "      <td>ONA</td>\n",
              "      <td>NaN</td>\n",
              "      <td>354</td>\n",
              "    </tr>\n",
              "    <tr>\n",
              "      <th>17558</th>\n",
              "      <td>48483</td>\n",
              "      <td>Mieruko-chan</td>\n",
              "      <td>NaN</td>\n",
              "      <td>Comedy, Horror, Supernatural</td>\n",
              "      <td>NaN</td>\n",
              "      <td>TV</td>\n",
              "      <td>NaN</td>\n",
              "      <td>7010</td>\n",
              "    </tr>\n",
              "    <tr>\n",
              "      <th>17559</th>\n",
              "      <td>48488</td>\n",
              "      <td>Higurashi:When They Cry – SOTSU</td>\n",
              "      <td>NaN</td>\n",
              "      <td>Mystery, Dementia, Horror, Psychological, Supe...</td>\n",
              "      <td>NaN</td>\n",
              "      <td>TV</td>\n",
              "      <td>Summer 2021</td>\n",
              "      <td>11309</td>\n",
              "    </tr>\n",
              "    <tr>\n",
              "      <th>17560</th>\n",
              "      <td>48491</td>\n",
              "      <td>Yama no Susume: Next Summit</td>\n",
              "      <td>NaN</td>\n",
              "      <td>Adventure, Slice of Life, Comedy</td>\n",
              "      <td>NaN</td>\n",
              "      <td>TV</td>\n",
              "      <td>NaN</td>\n",
              "      <td>1386</td>\n",
              "    </tr>\n",
              "    <tr>\n",
              "      <th>17561</th>\n",
              "      <td>48492</td>\n",
              "      <td>Scarlet Nexus</td>\n",
              "      <td>NaN</td>\n",
              "      <td>Action, Fantasy</td>\n",
              "      <td>NaN</td>\n",
              "      <td>TV</td>\n",
              "      <td>Summer 2021</td>\n",
              "      <td>310</td>\n",
              "    </tr>\n",
              "  </tbody>\n",
              "</table>\n",
              "<p>17562 rows × 8 columns</p>\n",
              "</div>"
            ],
            "text/plain": [
              "       anime_id                      eng_version Score  \\\n",
              "3971       5114  Fullmetal Alchemist:Brotherhood  9.19   \n",
              "15926     40028     Attack on Titan Final Season  9.17   \n",
              "5683       9253                      Steins;Gate  9.11   \n",
              "14963     38524  Attack on Titan Season 3 Part 2   9.1   \n",
              "9913      28977                 Gintama Season 4   9.1   \n",
              "...         ...                              ...   ...   \n",
              "17557     48481  Daomu Biji Zhi Qinling Shen Shu   NaN   \n",
              "17558     48483                     Mieruko-chan   NaN   \n",
              "17559     48488  Higurashi:When They Cry – SOTSU   NaN   \n",
              "17560     48491      Yama no Susume: Next Summit   NaN   \n",
              "17561     48492                    Scarlet Nexus   NaN   \n",
              "\n",
              "                                                  Genres Episodes Type  \\\n",
              "3971   Action, Military, Adventure, Comedy, Drama, Ma...       64   TV   \n",
              "15926  Action, Military, Mystery, Super Power, Drama,...       16   TV   \n",
              "5683                                    Thriller, Sci-Fi       24   TV   \n",
              "14963  Action, Drama, Fantasy, Military, Mystery, Sho...       10   TV   \n",
              "9913   Action, Comedy, Historical, Parody, Samurai, S...       51   TV   \n",
              "...                                                  ...      ...  ...   \n",
              "17557                   Adventure, Mystery, Supernatural      NaN  ONA   \n",
              "17558                       Comedy, Horror, Supernatural      NaN   TV   \n",
              "17559  Mystery, Dementia, Horror, Psychological, Supe...      NaN   TV   \n",
              "17560                   Adventure, Slice of Life, Comedy      NaN   TV   \n",
              "17561                                    Action, Fantasy      NaN   TV   \n",
              "\n",
              "         Premiered  Members  \n",
              "3971   Spring 2009  2248456  \n",
              "15926  Winter 2021   733260  \n",
              "5683   Spring 2011  1771162  \n",
              "14963  Spring 2019  1073626  \n",
              "9913   Spring 2015   404121  \n",
              "...            ...      ...  \n",
              "17557          NaN      354  \n",
              "17558          NaN     7010  \n",
              "17559  Summer 2021    11309  \n",
              "17560          NaN     1386  \n",
              "17561  Summer 2021      310  \n",
              "\n",
              "[17562 rows x 8 columns]"
            ]
          },
          "execution_count": 29,
          "metadata": {},
          "output_type": "execute_result"
        }
      ],
      "source": [
        "df"
      ]
    },
    {
      "cell_type": "markdown",
      "metadata": {},
      "source": [
        "## Pengambilan metadata anime dari dataframe (df)\n",
        "\n",
        "Dari data yang telah dimiliki, maka bila rekomendasi tersebut meminta anime_id tersebut, maka akan diberikan dataframe berdasarkan anime yang dibutuhkan, dan anime yang akan direkomendasikan."
      ]
    },
    {
      "cell_type": "code",
      "execution_count": 30,
      "metadata": {},
      "outputs": [],
      "source": [
        "def get_anime_frame(anime):\n",
        "    if isinstance(anime, int):\n",
        "        return df[df.anime_id == anime]\n",
        "    if isinstance(anime, str):\n",
        "        return df[df.eng_version == anime]"
      ]
    },
    {
      "cell_type": "markdown",
      "metadata": {},
      "source": [
        "## Fungsi eksekusi dari model #1\n",
        "\n",
        "Berikut adalah fungsi yang akan digunakan dalam menampilkan rekomendasi anime dari judul yang diinputkan untuk model #1.\n",
        "Dengan memasukkan judul anime yang disukai, maka pengguna bisa mendapatkan rekomendasi dari sistem mengenai anime yang mirip (similiar)."
      ]
    },
    {
      "cell_type": "code",
      "execution_count": 31,
      "metadata": {},
      "outputs": [],
      "source": [
        "pd.set_option(\"max_colwidth\", None)\n",
        "\n",
        "def find_similar_animes(name, n=10, return_dist=False, neg=False):\n",
        "    try:\n",
        "        index = get_anime_frame(name).anime_id.values[0]\n",
        "        encoded_index = anime2anime_encoded.get(index)\n",
        "        weights = anime_weights\n",
        "        \n",
        "        dists = np.dot(weights, weights[encoded_index])\n",
        "        sorted_dists = np.argsort(dists)\n",
        "        \n",
        "        n = n + 1\n",
        "        \n",
        "        if neg:\n",
        "            closest = sorted_dists[:n]\n",
        "        else:\n",
        "            closest = sorted_dists[-n:]\n",
        "\n",
        "        print('animes closest to {}'.format(name))\n",
        "\n",
        "        if return_dist:\n",
        "            return dists, closest\n",
        "        \n",
        "        rindex = df\n",
        "\n",
        "        SimilarityArr = []\n",
        "\n",
        "        for close in closest:\n",
        "            decoded_id = anime_encoded2anime.get(close)\n",
        "            anime_frame = get_anime_frame(decoded_id)\n",
        "            \n",
        "            anime_name = anime_frame.eng_version.values[0]\n",
        "            genre = anime_frame.Genres.values[0]\n",
        "            similarity = dists[close]\n",
        "            SimilarityArr.append({\"anime_id\": decoded_id, \"name\": anime_name, \"genres\":genre,\n",
        "                                  \"similarity\": similarity,})\n",
        "\n",
        "        Frame = pd.DataFrame(SimilarityArr).sort_values(by=\"similarity\", ascending=False)\n",
        "        return Frame[Frame.anime_id != index].drop(['anime_id'], axis=1)\n",
        "\n",
        "    except:\n",
        "        print('{}!, Not Found in Anime list'.format(name))"
      ]
    },
    {
      "cell_type": "markdown",
      "metadata": {},
      "source": [
        "## Fungsi eksekusi dari model #2\n",
        "\n",
        "Berikut adalah fungsi yang akan digunakan dalam menampilkan rekomendasi anime dari judul yang diinputkan untuk model #2.\n",
        "Dengan memasukkan judul anime yang disukai, maka pengguna bisa mendapatkan rekomendasi dari sistem mengenai anime yang mirip (similiar).\n",
        "\n",
        "Fungsi ini hanya disediakan sebagai pembanding, sehingga dapat diketahui model mana yang dapat memberikan rekomendasi dengan lebih baik kepada konsumen."
      ]
    },
    {
      "cell_type": "code",
      "execution_count": 32,
      "metadata": {},
      "outputs": [],
      "source": [
        "pd.set_option(\"max_colwidth\", None)\n",
        "\n",
        "def find_similar_animes_hyper(name, n=10, return_dist=False, neg=False):\n",
        "    try:\n",
        "        index = get_anime_frame(name).anime_id.values[0]\n",
        "        encoded_index = anime2anime_encoded.get(index)\n",
        "        weights = anime_weights_hyper\n",
        "        \n",
        "        dists = np.dot(weights, weights[encoded_index])\n",
        "        sorted_dists = np.argsort(dists)\n",
        "        \n",
        "        n = n + 1\n",
        "        \n",
        "        if neg:\n",
        "            closest = sorted_dists[:n]\n",
        "        else:\n",
        "            closest = sorted_dists[-n:]\n",
        "\n",
        "        print('animes closest to {}'.format(name))\n",
        "\n",
        "        if return_dist:\n",
        "            return dists, closest\n",
        "        \n",
        "        rindex = df\n",
        "\n",
        "        SimilarityArr = []\n",
        "\n",
        "        for close in closest:\n",
        "            decoded_id = anime_encoded2anime.get(close)\n",
        "            anime_frame = get_anime_frame(decoded_id)\n",
        "            \n",
        "            anime_name = anime_frame.eng_version.values[0]\n",
        "            genre = anime_frame.Genres.values[0]\n",
        "            similarity = dists[close]\n",
        "            SimilarityArr.append({\"anime_id\": decoded_id, \"name\": anime_name, \"genres\":genre,\n",
        "                                  \"similarity\": similarity,})\n",
        "\n",
        "        Frame = pd.DataFrame(SimilarityArr).sort_values(by=\"similarity\", ascending=False)\n",
        "        return Frame[Frame.anime_id != index].drop(['anime_id'], axis=1)\n",
        "\n",
        "    except:\n",
        "        print('{} tidak ditemukan dalam database.'.format(name))"
      ]
    },
    {
      "cell_type": "markdown",
      "metadata": {},
      "source": [
        "## Testing model #1 untuk anime \"Naruto\" untuk menampilkan 10 anime termirip.\n",
        "\n",
        "Yap, mari kita lihat hasil pemodelan kita :)"
      ]
    },
    {
      "cell_type": "code",
      "execution_count": 33,
      "metadata": {},
      "outputs": [
        {
          "name": "stdout",
          "output_type": "stream",
          "text": [
            "animes closest to Naruto\n"
          ]
        },
        {
          "data": {
            "text/html": [
              "<div>\n",
              "<style scoped>\n",
              "    .dataframe tbody tr th:only-of-type {\n",
              "        vertical-align: middle;\n",
              "    }\n",
              "\n",
              "    .dataframe tbody tr th {\n",
              "        vertical-align: top;\n",
              "    }\n",
              "\n",
              "    .dataframe thead th {\n",
              "        text-align: right;\n",
              "    }\n",
              "</style>\n",
              "<table border=\"1\" class=\"dataframe\">\n",
              "  <thead>\n",
              "    <tr style=\"text-align: right;\">\n",
              "      <th></th>\n",
              "      <th>name</th>\n",
              "      <th>genres</th>\n",
              "      <th>similarity</th>\n",
              "    </tr>\n",
              "  </thead>\n",
              "  <tbody>\n",
              "    <tr>\n",
              "      <th>9</th>\n",
              "      <td>Naruto:Shippuden</td>\n",
              "      <td>Action, Adventure, Comedy, Super Power, Martial Arts, Shounen</td>\n",
              "      <td>0.923850</td>\n",
              "    </tr>\n",
              "    <tr>\n",
              "      <th>8</th>\n",
              "      <td>Bleach</td>\n",
              "      <td>Action, Adventure, Comedy, Super Power, Supernatural, Shounen</td>\n",
              "      <td>0.822279</td>\n",
              "    </tr>\n",
              "    <tr>\n",
              "      <th>7</th>\n",
              "      <td>Death Note</td>\n",
              "      <td>Mystery, Police, Psychological, Supernatural, Thriller, Shounen</td>\n",
              "      <td>0.711682</td>\n",
              "    </tr>\n",
              "    <tr>\n",
              "      <th>6</th>\n",
              "      <td>Naruto the Movie:Ninja Clash in the Land of Snow</td>\n",
              "      <td>Adventure, Comedy, Historical, Supernatural, Drama, Shounen</td>\n",
              "      <td>0.698654</td>\n",
              "    </tr>\n",
              "    <tr>\n",
              "      <th>5</th>\n",
              "      <td>Attack on Titan</td>\n",
              "      <td>Action, Military, Mystery, Super Power, Drama, Fantasy, Shounen</td>\n",
              "      <td>0.691132</td>\n",
              "    </tr>\n",
              "    <tr>\n",
              "      <th>4</th>\n",
              "      <td>Naruto:Shippuden the Movie</td>\n",
              "      <td>Action, Adventure, Comedy, Fantasy, Shounen</td>\n",
              "      <td>0.677470</td>\n",
              "    </tr>\n",
              "    <tr>\n",
              "      <th>3</th>\n",
              "      <td>Dragon Ball Z</td>\n",
              "      <td>Action, Adventure, Comedy, Fantasy, Martial Arts, Shounen, Super Power</td>\n",
              "      <td>0.676781</td>\n",
              "    </tr>\n",
              "    <tr>\n",
              "      <th>2</th>\n",
              "      <td>Naruto:Shippuden the Movie 2 -Bonds-</td>\n",
              "      <td>Action, Martial Arts, Shounen, Supernatural</td>\n",
              "      <td>0.671968</td>\n",
              "    </tr>\n",
              "    <tr>\n",
              "      <th>1</th>\n",
              "      <td>Road to Ninja:Naruto the Movie</td>\n",
              "      <td>Action, Adventure, Super Power, Martial Arts, Shounen</td>\n",
              "      <td>0.671109</td>\n",
              "    </tr>\n",
              "    <tr>\n",
              "      <th>0</th>\n",
              "      <td>Naruto the Movie 3:Guardians of the Crescent Moon Kingdom</td>\n",
              "      <td>Action, Adventure</td>\n",
              "      <td>0.644024</td>\n",
              "    </tr>\n",
              "  </tbody>\n",
              "</table>\n",
              "</div>"
            ],
            "text/plain": [
              "                                                        name  \\\n",
              "9                                           Naruto:Shippuden   \n",
              "8                                                     Bleach   \n",
              "7                                                 Death Note   \n",
              "6           Naruto the Movie:Ninja Clash in the Land of Snow   \n",
              "5                                            Attack on Titan   \n",
              "4                                 Naruto:Shippuden the Movie   \n",
              "3                                              Dragon Ball Z   \n",
              "2                       Naruto:Shippuden the Movie 2 -Bonds-   \n",
              "1                             Road to Ninja:Naruto the Movie   \n",
              "0  Naruto the Movie 3:Guardians of the Crescent Moon Kingdom   \n",
              "\n",
              "                                                                   genres  \\\n",
              "9           Action, Adventure, Comedy, Super Power, Martial Arts, Shounen   \n",
              "8           Action, Adventure, Comedy, Super Power, Supernatural, Shounen   \n",
              "7         Mystery, Police, Psychological, Supernatural, Thriller, Shounen   \n",
              "6             Adventure, Comedy, Historical, Supernatural, Drama, Shounen   \n",
              "5         Action, Military, Mystery, Super Power, Drama, Fantasy, Shounen   \n",
              "4                             Action, Adventure, Comedy, Fantasy, Shounen   \n",
              "3  Action, Adventure, Comedy, Fantasy, Martial Arts, Shounen, Super Power   \n",
              "2                             Action, Martial Arts, Shounen, Supernatural   \n",
              "1                   Action, Adventure, Super Power, Martial Arts, Shounen   \n",
              "0                                                       Action, Adventure   \n",
              "\n",
              "   similarity  \n",
              "9    0.923850  \n",
              "8    0.822279  \n",
              "7    0.711682  \n",
              "6    0.698654  \n",
              "5    0.691132  \n",
              "4    0.677470  \n",
              "3    0.676781  \n",
              "2    0.671968  \n",
              "1    0.671109  \n",
              "0    0.644024  "
            ]
          },
          "execution_count": 33,
          "metadata": {},
          "output_type": "execute_result"
        }
      ],
      "source": [
        "find_similar_animes('Naruto', neg=False)"
      ]
    },
    {
      "cell_type": "markdown",
      "metadata": {},
      "source": [
        "## Testing model #2 untuk anime \"Naruto\" untuk menampilkan 10 anime termirip.\n",
        "\n",
        "Yap, mari kita lihat hasil pemodelan kita :)"
      ]
    },
    {
      "cell_type": "code",
      "execution_count": 34,
      "metadata": {},
      "outputs": [
        {
          "name": "stdout",
          "output_type": "stream",
          "text": [
            "animes closest to Naruto\n"
          ]
        },
        {
          "data": {
            "text/html": [
              "<div>\n",
              "<style scoped>\n",
              "    .dataframe tbody tr th:only-of-type {\n",
              "        vertical-align: middle;\n",
              "    }\n",
              "\n",
              "    .dataframe tbody tr th {\n",
              "        vertical-align: top;\n",
              "    }\n",
              "\n",
              "    .dataframe thead th {\n",
              "        text-align: right;\n",
              "    }\n",
              "</style>\n",
              "<table border=\"1\" class=\"dataframe\">\n",
              "  <thead>\n",
              "    <tr style=\"text-align: right;\">\n",
              "      <th></th>\n",
              "      <th>name</th>\n",
              "      <th>genres</th>\n",
              "      <th>similarity</th>\n",
              "    </tr>\n",
              "  </thead>\n",
              "  <tbody>\n",
              "    <tr>\n",
              "      <th>9</th>\n",
              "      <td>The Qwaser of Stigmata</td>\n",
              "      <td>Action, Super Power, Supernatural, Ecchi, Seinen</td>\n",
              "      <td>0.305140</td>\n",
              "    </tr>\n",
              "    <tr>\n",
              "      <th>8</th>\n",
              "      <td>The Adventures of Scamper the Penguin</td>\n",
              "      <td>Adventure, Drama, Fantasy, Kids, Slice of Life</td>\n",
              "      <td>0.226839</td>\n",
              "    </tr>\n",
              "    <tr>\n",
              "      <th>7</th>\n",
              "      <td>MATASABURO of the Wind</td>\n",
              "      <td>Supernatural, Fantasy</td>\n",
              "      <td>0.214286</td>\n",
              "    </tr>\n",
              "    <tr>\n",
              "      <th>6</th>\n",
              "      <td>HuGoo.n no Hug Hug Song</td>\n",
              "      <td>Kids, Music</td>\n",
              "      <td>0.210758</td>\n",
              "    </tr>\n",
              "    <tr>\n",
              "      <th>5</th>\n",
              "      <td>A Wind Named Amnesia</td>\n",
              "      <td>Action, Dementia, Drama, Sci-Fi</td>\n",
              "      <td>0.209729</td>\n",
              "    </tr>\n",
              "    <tr>\n",
              "      <th>4</th>\n",
              "      <td>Nekomonogatari: Kuro Recap</td>\n",
              "      <td>Supernatural</td>\n",
              "      <td>0.209045</td>\n",
              "    </tr>\n",
              "    <tr>\n",
              "      <th>3</th>\n",
              "      <td>Space Warrior Bladios</td>\n",
              "      <td>Sci-Fi, Adventure, Space, Drama, Mecha, Shounen</td>\n",
              "      <td>0.206822</td>\n",
              "    </tr>\n",
              "    <tr>\n",
              "      <th>2</th>\n",
              "      <td>Soccer Fever</td>\n",
              "      <td>Historical, Sports</td>\n",
              "      <td>0.205244</td>\n",
              "    </tr>\n",
              "    <tr>\n",
              "      <th>1</th>\n",
              "      <td>Girls &amp; Panzer: Nihon Senshadou Renmei News</td>\n",
              "      <td>Comedy</td>\n",
              "      <td>0.205222</td>\n",
              "    </tr>\n",
              "    <tr>\n",
              "      <th>0</th>\n",
              "      <td>Wrath of the Ninja</td>\n",
              "      <td>Action, Martial Arts, Samurai</td>\n",
              "      <td>0.204609</td>\n",
              "    </tr>\n",
              "  </tbody>\n",
              "</table>\n",
              "</div>"
            ],
            "text/plain": [
              "                                          name  \\\n",
              "9                       The Qwaser of Stigmata   \n",
              "8        The Adventures of Scamper the Penguin   \n",
              "7                       MATASABURO of the Wind   \n",
              "6                      HuGoo.n no Hug Hug Song   \n",
              "5                         A Wind Named Amnesia   \n",
              "4                   Nekomonogatari: Kuro Recap   \n",
              "3                        Space Warrior Bladios   \n",
              "2                                 Soccer Fever   \n",
              "1  Girls & Panzer: Nihon Senshadou Renmei News   \n",
              "0                           Wrath of the Ninja   \n",
              "\n",
              "                                             genres  similarity  \n",
              "9  Action, Super Power, Supernatural, Ecchi, Seinen    0.305140  \n",
              "8    Adventure, Drama, Fantasy, Kids, Slice of Life    0.226839  \n",
              "7                             Supernatural, Fantasy    0.214286  \n",
              "6                                       Kids, Music    0.210758  \n",
              "5                   Action, Dementia, Drama, Sci-Fi    0.209729  \n",
              "4                                      Supernatural    0.209045  \n",
              "3   Sci-Fi, Adventure, Space, Drama, Mecha, Shounen    0.206822  \n",
              "2                                Historical, Sports    0.205244  \n",
              "1                                            Comedy    0.205222  \n",
              "0                     Action, Martial Arts, Samurai    0.204609  "
            ]
          },
          "execution_count": 34,
          "metadata": {},
          "output_type": "execute_result"
        }
      ],
      "source": [
        "find_similar_animes_hyper('Naruto', neg=False)"
      ]
    },
    {
      "cell_type": "markdown",
      "metadata": {},
      "source": [
        "# Hasil Dari Rekomendasi:\n",
        "Dapat dilihat bahwa rekomendasi dari model #1 menunjukkan hasil yang lebih akurat daripada model ke-2, dimana model pertama memberikan hasil yang baik (anime yang direkomendasikan mirip dengan Naruto, baik dari segi cerita, maupun genre).\n",
        "\n",
        "Sedangkan, pada model ke-2 didapatkan hasil yang kurang memuaskan, dimana anime yang direkomendasikan memiliki tingkat kemiripan yang kurang, bahkan tidak mirip, dari pengujian yang dilakukan.\n",
        "\n",
        "Secara statistik, rekomendasi dari model pertama juga memberikan hasil berupa MAE, dan MSE yang lebih baik dibandingkan model kedua yang seharusnya merupakan pengembangan darin model pertama. Maka dari itu, dari model tersebut, **akan digunakan model pertama sebagai model yang digunakan dalam proses memberikan rekomendasi anime kepada pengguna.**"
      ]
    },
    {
      "cell_type": "markdown",
      "metadata": {
        "id": "hXvJeE3Tj0os"
      },
      "source": [
        "# Evaluasi\n",
        "\n",
        "Dalam proses evaluasi, akan disajikan informasi mengenai perbandingan mengenai model pertama dan kedua melalui tiga metrik berikut:\n",
        "- Loss (Cross-entropy Loss)\n",
        "- MAE (Mean Absolute Error)\n",
        "- MSE (Mean Squared Error)"
      ]
    },
    {
      "cell_type": "markdown",
      "metadata": {},
      "source": [
        "## Metrik #1: Loss\n",
        "\n",
        "Metrik loss adalah metrik yang senantiasa digunakan dalam proses pemodelan.\n",
        "Cross-entropy adalah fungsi loss default yang digunakan untuk masalah klasifikasi biner. Ini dimaksudkan untuk digunakan dengan klasifikasi biner di mana nilai target berada di set {0, 1}.\n",
        "\n",
        "Secara matematis, ini adalah fungsi loss yang lebih disukai di bawah inference framework of maximum likelihood. Ini adalah fungsi loss yang harus dievaluasi terlebih dahulu dan hanya diubah jika anda memiliki alasan yang bagus.\n",
        "\n",
        "Cross-entropy akan menghitung skor yang merangkum perbedaan rata-rata antara distribusi probabilitas aktual dan prediksi untuk kelas prediksi 1. Skor tersebut diminimalkan dan nilai cross-entropy yang baik adalah 0.\n",
        "\n",
        "Berikut adalah hasil perbandingan loss dan val_loss pada kedua model yang telah dibuat dalam grafik:"
      ]
    },
    {
      "cell_type": "code",
      "execution_count": 43,
      "metadata": {},
      "outputs": [
        {
          "data": {
            "image/png": "[encoded data removed]",
            "text/plain": [
              "<Figure size 432x288 with 1 Axes>"
            ]
          },
          "metadata": {
            "needs_background": "light"
          },
          "output_type": "display_data"
        }
      ],
      "source": [
        "from matplotlib import pyplot\n",
        "\n",
        "pyplot.plot(history.history['loss'])\n",
        "pyplot.plot(history_hyper.history['loss'])\n",
        "pyplot.show()"
      ]
    },
    {
      "cell_type": "code",
      "execution_count": 44,
      "metadata": {},
      "outputs": [
        {
          "data": {
            "image/png": "[encoded data removed]",
            "text/plain": [
              "<Figure size 432x288 with 1 Axes>"
            ]
          },
          "metadata": {
            "needs_background": "light"
          },
          "output_type": "display_data"
        }
      ],
      "source": [
        "from matplotlib import pyplot\n",
        "\n",
        "pyplot.plot(history.history['val_loss'])\n",
        "pyplot.plot(history_hyper.history['val_loss'])\n",
        "pyplot.show()"
      ]
    },
    {
      "cell_type": "markdown",
      "metadata": {
        "id": "gVoAGwarojTK"
      },
      "source": [
        "## Metrik #2: MAE\n",
        "\n",
        "Nilai MAE merepresentasikan rata – rata kesalahan (error) absolut antara hasil peramalan dengan nilai sebenarnya.\n",
        "Dengan menggunakan nilai yang mudah didapat, namun metrik yang sangat bermanfaat ini, dapat dilihat seberapa besar rata-rata dari kesalahan model dalam melakukan algoritmanya (melakukan prediksi). Semakin kecil nilai dari MAE, maka model berfungsi dengan baik.\n",
        "\n",
        "MAE sendiri didapatkan dari seluruh prediksi dikurangkan dengan prediksi yang benar, dibagi dengan poin dalam prediksi. Melalui metrik ini, dapat diketahui seberapa besar kemungkinan model dalam melakukan prediksi yang salah.\n",
        "\n",
        "Pemilihan MAE pada model ini dikarenakan MAE mudah duntuk diterapkan, serta memiliki tujuan yang linier dengan sistem rekomendasi, yaitu mencari kesalahan dari penggunaan model.\n",
        "\n",
        "Berikut adalah hasil perbandingan MAE pada kedua model yang telah dibuat dalam grafik:"
      ]
    },
    {
      "cell_type": "code",
      "execution_count": 35,
      "metadata": {},
      "outputs": [
        {
          "data": {
            "image/png": "[encoded data removed]",
            "text/plain": [
              "<Figure size 432x288 with 1 Axes>"
            ]
          },
          "metadata": {
            "needs_background": "light"
          },
          "output_type": "display_data"
        }
      ],
      "source": [
        "from matplotlib import pyplot\n",
        "\n",
        "pyplot.plot(history.history['mae'])\n",
        "pyplot.plot(history_hyper.history['mae'])\n",
        "pyplot.show()"
      ]
    },
    {
      "cell_type": "markdown",
      "metadata": {
        "id": "VKwo_g5wj0ou"
      },
      "source": [
        "## Metrik #3: MSE\n",
        "\n",
        "Hampir sama dengan MAE, MSE didapatkan dengan cara masing-masing kesalahan atau sisa dikuadratkan. Kemudian dijumlahkan dan ditambahkan dengan jumlah observasi. Pendekatan ini mengatur kesalahan peramalan yang besar karena kesalahan - kesalahan itu dikuadratkan.\n",
        "Metode itu menghasilkan kesalahan-kesalahan sedang yang kemungkinan lebih baik untuk kesalahan kecil, tetapi kadang menghasilkan perbedaan yang besar.\n",
        "\n",
        "Pemilihan metrik ini dalam sistem rekomendasi adalah karena MSE memiliki beberapa keunggulan seperti hasilnya mencakup kesalahan-kesalahan yang lebih besar dari MAE, sehingga dapat diketahui sebesar apa kemungkinan model akan melakukan kesalahan prediksi yang besar.\n",
        "\n",
        "Berikut adalah hasil perbandingan MSE pada kedua model yang telah dibuat dalam grafik:"
      ]
    },
    {
      "cell_type": "code",
      "execution_count": 36,
      "metadata": {},
      "outputs": [
        {
          "data": {
            "image/png": "[encoded data removed]",
            "text/plain": [
              "<Figure size 432x288 with 1 Axes>"
            ]
          },
          "metadata": {
            "needs_background": "light"
          },
          "output_type": "display_data"
        }
      ],
      "source": [
        "pyplot.plot(history.history['mse'])\n",
        "pyplot.plot(history_hyper.history['mse'])\n",
        "pyplot.show()"
      ]
    },
    {
      "cell_type": "markdown",
      "metadata": {
        "id": "C-V_64j-j0ou"
      },
      "source": [
        "# KESIMPULAN\n",
        "\n",
        "Dari pembuatan kedua model tersebut didapatkan hasil yang cukup optimal, dan sesuai dengan goal yang ingin dicapai, yaitu merekomendasikan beberapa judul anime yang memiliki kemiripan yang tinggi dengan anime yang diinputkan pertama kali.\n",
        "\n",
        "**Dari proses pemodelan hingga evaluasi, dapat disimpulkan bahwa model #1 yang menggunakan RecommenderNet dan menggunakan optimizer Adam dapat melakukan tugas untuk memberikan rekomendasi anime dengan lebih baik dibandingkan model #2 yang pemodelannya menggunakan SGD optimizer yang dirancang sendiri oleh penulis.**"
      ]
    }
  ],
  "metadata": {
    "accelerator": "TPU",
    "colab": {
      "collapsed_sections": [],
      "name": "Copy of submission_ml_terapan.ipynb",
      "provenance": []
    },
    "interpreter": {
      "hash": "75fe66cc5c562c8b7ab53726264ba1dcd972787fdbff729afe5074f433741fc8"
    },
    "kernelspec": {
      "display_name": "Python 3.9.1 64-bit",
      "name": "python3"
    },
    "language_info": {
      "codemirror_mode": {
        "name": "ipython",
        "version": 3
      },
      "file_extension": ".py",
      "mimetype": "text/x-python",
      "name": "python",
      "nbconvert_exporter": "python",
      "pygments_lexer": "ipython3",
      "version": "3.9.1"
    },
    "metadata": {
      "interpreter": {
        "hash": "75fe66cc5c562c8b7ab53726264ba1dcd972787fdbff729afe5074f433741fc8"
      }
    }
  },
  "nbformat": 4,
  "nbformat_minor": 0
}
